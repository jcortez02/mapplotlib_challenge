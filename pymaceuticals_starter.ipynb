{
 "cells": [
  {
   "cell_type": "markdown",
   "metadata": {},
   "source": [
    "## Observations and Insights "
   ]
  },
  {
   "cell_type": "markdown",
   "metadata": {},
   "source": []
  },
  {
   "cell_type": "code",
   "execution_count": null,
   "metadata": {},
   "outputs": [],
   "source": [
    "# Dependencies and Setup\n",
    "import matplotlib.pyplot as plt\n",
    "import pandas as pd\n",
    "import numpy as np\n",
    "import scipy.stats as st\n",
    "\n",
    "# Study data files\n",
    "mouse_metadata_path = '/Users/jacobcortez/Documents/GitHub/DS_Repos/HW_Repo/mapplotlib_challenge/Mouse_metadata.csv'\n",
    "study_results_path = '/Users/jacobcortez/Documents/GitHub/DS_Repos/HW_Repo/mapplotlib_challenge/Study_results.csv'\n",
    "\n",
    "# Read the mouse data and the study results\n",
    "mouse_metadata = pd.read_csv(mouse_metadata_path)\n",
    "study_results = pd.read_csv(study_results_path)"
   ]
  },
  {
   "cell_type": "code",
   "execution_count": null,
   "metadata": {},
   "outputs": [],
   "source": [
    "# Preview mouse data\n",
    "mouse_metadata"
   ]
  },
  {
   "cell_type": "code",
   "execution_count": null,
   "metadata": {},
   "outputs": [],
   "source": [
    "# Preview study data\n",
    "study_results"
   ]
  },
  {
   "cell_type": "code",
   "execution_count": null,
   "metadata": {},
   "outputs": [],
   "source": [
    "# Combine the data into a single dataset (interjoin)\n",
    "merge_df = pd.merge(mouse_metadata, study_results, how = 'right',on=\"Mouse ID\")"
   ]
  },
  {
   "cell_type": "code",
   "execution_count": null,
   "metadata": {},
   "outputs": [],
   "source": [
    "# Display the data table for preview\n",
    "merge_df"
   ]
  },
  {
   "cell_type": "code",
   "execution_count": null,
   "metadata": {},
   "outputs": [],
   "source": [
    "# Check for incomplete rows\n",
    "merge_df.count()"
   ]
  },
  {
   "cell_type": "code",
   "execution_count": null,
   "metadata": {},
   "outputs": [],
   "source": [
    "# Check for types in each row or column\n",
    "merge_df.dtypes"
   ]
  },
  {
   "cell_type": "code",
   "execution_count": null,
   "metadata": {},
   "outputs": [],
   "source": [
    "# Getting the duplicate mice by ID number that shows up for Mouse ID and Timepoint. \n",
    "merge_df.duplicated(subset=['Mouse ID','Timepoint'])"
   ]
  },
  {
   "cell_type": "code",
   "execution_count": null,
   "metadata": {},
   "outputs": [],
   "source": [
    "# Optional: Get all the data for the duplicate mouse ID. \n",
    "merge_duplicates_df = merge_df.loc[merge_df.duplicated(subset=['Mouse ID','Timepoint'])]\n",
    "merge_duplicates_df.head()\n"
   ]
  },
  {
   "cell_type": "code",
   "execution_count": null,
   "metadata": {},
   "outputs": [],
   "source": [
    "# Create a clean DataFrame by dropping the duplicate mouse by its ID.\n",
    "merge_df2 = merge_df.drop_duplicates(subset=['Mouse ID','Timepoint'])\n",
    "merge_df2"
   ]
  },
  {
   "cell_type": "code",
   "execution_count": null,
   "metadata": {},
   "outputs": [],
   "source": [
    "# Checking the number of mice in the clean DataFrame.\n",
    "mice_count_nunique2 = merge_df2[['Mouse ID','Timepoint']].nunique()\n",
    "mice_count_nunique2"
   ]
  },
  {
   "cell_type": "markdown",
   "metadata": {},
   "source": [
    "## Summary Statistics"
   ]
  },
  {
   "cell_type": "code",
   "execution_count": null,
   "metadata": {},
   "outputs": [],
   "source": [
    "# Create DF for Drug Regimen\n",
    "summary_stats_df = merge_df2.groupby('Drug Regimen')\n",
    "summary_stats_df.describe()"
   ]
  },
  {
   "cell_type": "code",
   "execution_count": null,
   "metadata": {},
   "outputs": [],
   "source": [
    "# Generate a summary statistics table of mean, median, variance, standard deviation, and SEM of the tumor volume for each regimen.\n",
    "# mean, median, variance, standard deviation, and SEM of the tumor volume\n",
    "tumor_volume_mean = summary_stats_df['Tumor Volume (mm3)'].mean()\n",
    "tumor_volume_median = summary_stats_df['Tumor Volume (mm3)'].median()\n",
    "tumor_volume_variance = summary_stats_df['Tumor Volume (mm3)'].var()\n",
    "tumor_volume_std = summary_stats_df['Tumor Volume (mm3)'].std()\n",
    "tumor_volume_sem = summary_stats_df['Tumor Volume (mm3)'].sem()"
   ]
  },
  {
   "cell_type": "code",
   "execution_count": null,
   "metadata": {},
   "outputs": [],
   "source": [
    "# Assemble the resulting series into a single summary dataframe.\n",
    "tumor_volume_stats_df = pd.DataFrame({'Mean': tumor_volume_mean,'Median': tumor_volume_median,'Variance': tumor_volume_variance,'Standard Deviation': tumor_volume_std,'SEM': tumor_volume_sem})"
   ]
  },
  {
   "cell_type": "code",
   "execution_count": null,
   "metadata": {},
   "outputs": [],
   "source": [
    "# Generate a summary statistics table of mean, median, variance, standard deviation, and SEM of the tumor volume for each regimen\n",
    "tumor_volume_stats_df"
   ]
  },
  {
   "cell_type": "code",
   "execution_count": null,
   "metadata": {},
   "outputs": [],
   "source": [
    "# Using the aggregation method, produce the same summary statistics in a single line\n",
    "tumor_volume_stats_df.agg('sum')"
   ]
  },
  {
   "cell_type": "markdown",
   "metadata": {},
   "source": [
    "## Bar and Pie Charts"
   ]
  },
  {
   "cell_type": "code",
   "execution_count": null,
   "metadata": {},
   "outputs": [],
   "source": [
    "# Load DF \n",
    "merge_df2"
   ]
  },
  {
   "cell_type": "code",
   "execution_count": null,
   "metadata": {},
   "outputs": [],
   "source": [
    "# Generate a bar plot showing the total number of timepoints for all mice tested for each drug regimen using Pandas.\n",
    "DR_bar_plot = merge_df2['Drug Regimen'].value_counts().plot.bar(width=.5, zorder=7, color='r',align='center')\n",
    "plt.title('Total Timepoints For All Mice Tested For Each Drug')\n",
    "plt.xlabel('Drug Regimen')\n",
    "plt.ylabel('Timepoints')\n",
    "plt.grid(zorder=0)\n"
   ]
  },
  {
   "cell_type": "code",
   "execution_count": null,
   "metadata": {},
   "outputs": [],
   "source": [
    "# Generate a bar plot showing the total number of timepoints for all mice tested for each drug regimen using pyplot.\n",
    "\n",
    "# Calculate the amount of data points for each drug regimen\n",
    "timepoints_counts = merge_df2['Drug Regimen'].value_counts()\n",
    "\n",
    "# Set the x_axis to the length of the 'counts' series\n",
    "x_axis = np.arange(len(timepoints_counts))\n",
    "\n",
    "# Generate a bar blot with the length of the 'counts' series\n",
    "plt.bar(x_axis, timepoints_counts, width = 0.5, zorder=3, color='r')\n",
    "\n",
    "# Label the tick marks according to the index values in the 'counts' series\n",
    "tick_locations = [value for value in x_axis]\n",
    "plt.xticks(tick_locations, timepoints_counts.index.values)\n",
    "\n",
    "# Rotate tick marks visibility\n",
    "plt.xticks(rotation='vertical')\n",
    "\n",
    "# Set labels for axes\n",
    "plt.xlabel('Drug Regimen')\n",
    "plt.ylabel('Number of Timepoints')\n",
    "plt.title('Total Timepoints For All Mice Tested For Each Drug')\n",
    "\n",
    "# Create a grid - using 'zorder' places grid behind the bars since we set their z-order higher\n",
    "plt.grid(zorder=0)\n",
    "\n",
    "# Display resulting plot\n",
    "plt.show()\n"
   ]
  },
  {
   "cell_type": "code",
   "execution_count": null,
   "metadata": {},
   "outputs": [],
   "source": [
    "# Generate a pie plot showing the distribution of female versus male mice using Pandas\n",
    "sex_df=merge_df2['Sex'].value_counts()\n",
    "\n",
    "sex_pie_plot = sex_df.plot.pie(autopct=\"%1.1f%%\", title='Distribution by Sex')\n",
    "\n",
    "sex_pie_plot.set_ylabel('')"
   ]
  },
  {
   "cell_type": "code",
   "execution_count": null,
   "metadata": {},
   "outputs": [],
   "source": [
    "# Generate a pie plot showing the distribution of female versus male mice using pyplot\n",
    "sex_df=merge_df2['Sex'].value_counts()\n",
    "\n",
    "plt.pie(sex_df, labels=sex_df.index.values, autopct=\"%1.1f%%\")\n",
    "plt.title('Distribution by Sex')\n",
    "\n",
    "plt.show()"
   ]
  },
  {
   "cell_type": "markdown",
   "metadata": {},
   "source": [
    "## Quartiles, Outliers and Boxplots"
   ]
  },
  {
   "cell_type": "code",
   "execution_count": null,
   "metadata": {},
   "outputs": [],
   "source": [
    "# Calculate the final tumor volume of each mouse across four of the treatment regimens:  \n",
    "# Capomulin, Ramicane, Infubinol, and Ceftamin\n",
    "\n",
    "# Start by getting the last (greatest) timepoint for each mouse\n",
    "max_tp_df = pd.DataFrame(merge_df2.groupby('Mouse ID')['Timepoint'].max().sort_values())\n",
    "\n",
    "# Reset the index & Rename\n",
    "max_tp_df = pd.DataFrame(merge_df2.groupby('Mouse ID')['Timepoint'].max().sort_values()).reset_index().rename(columns={'Timepoint': 'Max_Timepoint'})\n",
    "\n",
    "# Merge this group df with the original dataframe to get the tumor volume at the last timepoint\n",
    "merge_df3 = pd.merge(merge_df2, max_tp_df,on=\"Mouse ID\")\n",
    "merge_df3\n"
   ]
  },
  {
   "cell_type": "code",
   "execution_count": null,
   "metadata": {},
   "outputs": [],
   "source": [
    "# Put treatments into a list for for loop (and later for plot labels)\n",
    "# Create empty list to fill with tumor vol data (for plotting)\n",
    "# Calculate the IQR and quantitatively determine if there are any potential outliers. \n",
    "# Locate the rows which contain mice on each drug and get the tumor volumes\n",
    "# add subset \n",
    "# Determine outliers using upper and lower bounds\n",
    "    \n",
    "drugs = ['Capomulin', 'Ramicane', 'Infubinol', 'Ceftamin']\n",
    "drug_values = []\n",
    "\n",
    "for drug in drugs:\n",
    "\n",
    "    # Locate each drug\n",
    "    drugs_df = merge_df3.loc[merge_df3['Drug Regimen'] == drug]\n",
    "\n",
    "    # Narrow down down our DF to the columns/rows we need\n",
    "    drugs_final_volume_df = drugs_df.loc[drugs_df['Timepoint'] == drugs_df['Max_Timepoint']]\n",
    "\n",
    "    # Create DF that has final volume of each drug into drug value list\n",
    "    drugs_values_df = drugs_final_volume_df['Tumor Volume (mm3)']\n",
    "    drug_values.append(drugs_values_df)\n",
    "\n",
    "    # Calculate IQR for each drug\n",
    "    quartile = drugs_values_df.quantile([.25,.5,.75])\n",
    "    lowerq = quartile[.25]\n",
    "    upperq = quartile[.75]\n",
    "    iqr = upperq - lowerq\n",
    "    print(f'IQR for {drug}: {iqr} ')\n",
    "    \n",
    "    # Find upper and lower bounds\n",
    "    lower_bound = lowerq - (1.5*iqr)\n",
    "    upper_bound = upperq + (1.5*iqr)\n",
    "    print(f'Lower Bound for {drug}: {lower_bound}')\n",
    "    print(f'Upper Bound for {drug}: {upper_bound}')\n",
    "\n",
    "    # Check for outliers\n",
    "    #drug_outliers_count_df = (drugs_values_df.loc[(drugs_final_volume_df['Tumor Volume (mm3)'] >= upper_bound)\n",
    "     #                                   (drugs_final_volume_df['Tumor Volume (mm3)'] <= lower_bound)]).count()\n",
    "    #print(f'Number of {drug} outliers: {drug_outliers_count_df}')"
   ]
  },
  {
   "cell_type": "code",
   "execution_count": null,
   "metadata": {},
   "outputs": [],
   "source": [
    "# Generate a box plot of the final tumor volume of each mouse across four regimens of interest\n",
    "flierprops = dict(marker='o', markerfacecolor='r', markersize=8, markeredgecolor='black')\n",
    "plt.boxplot(drug_values, flierprops=flierprops)\n",
    "plt.title('Final Tumor Volume by Drug')\n",
    "plt.ylabel('Final Tumor Volume (mm3)')\n",
    "plt.xticks([1, 2, 3, 4], ['Capomulin', 'Ramicane', 'Infubinol', 'Ceftamin'])\n",
    "\n",
    "plt.show()"
   ]
  },
  {
   "cell_type": "markdown",
   "metadata": {},
   "source": [
    "## Line and Scatter Plots"
   ]
  },
  {
   "cell_type": "code",
   "execution_count": null,
   "metadata": {},
   "outputs": [],
   "source": [
    "# Generate a line plot of tumor volume vs. time point for a mouse treated with Capomulin\n",
    "mouse_capomulin = merge_df2.loc[merge_df2['Mouse ID']== 's185']\n",
    "plt.plot(mouse_capomulin['Timepoint'], mouse_capomulin['Tumor Volume (mm3)'], marker = 'o')\n",
    "plt.xlabel(\"Time (days)\")\n",
    "plt.ylabel(\"Tumor Volume (mm3)\")\n",
    "plt.title(\"Capomulin Treatment of Mouse s185\")\n",
    "\n",
    "plt.show()\n"
   ]
  },
  {
   "cell_type": "code",
   "execution_count": null,
   "metadata": {},
   "outputs": [],
   "source": [
    "# Generate a scatter plot of average tumor volume vs. mouse weight for the Capomulin regimen\n",
    "\n",
    "# Cases with Capomulin drug only\n",
    "capomulin_df = merge_df2.loc[merge_df2['Drug Regimen']== 'Capomulin']\n",
    "\n",
    "# Avg. Tumor Volume of Each Mouse with Capomulin drug\n",
    "capomulin_avgvol_df = pd.DataFrame(capomulin_df.groupby('Mouse ID')['Tumor Volume (mm3)'].mean().sort_values()).reset_index().rename(columns={'Tumor Volume (mm3)': 'avg_tumor_vol'})\n",
    "\n",
    "# Combine the two DF for Camomulin drug\n",
    "capomulin_avgvol_df = pd.merge(capomulin_df, capomulin_avgvol_df, on='Mouse ID')\n",
    "capomulin_final_avgvol_df = capomulin_avgvol_df[['Weight (g)', 'avg_tumor_vol']].drop_duplicates()\n",
    "capomulin_final_avgvol_df\n",
    "\n",
    "x = capomulin_final_avgvol_df['Weight (g)']\n",
    "y = capomulin_final_avgvol_df['avg_tumor_vol']\n",
    "\n",
    "# Create the scatter plot with new DF\n",
    "plt.scatter(x, y)\n",
    "plt.xlabel(\"Weight (g)\")\n",
    "plt.ylabel(\"Average Tumor Volume (mm3)\")\n",
    "plt.title('Average Tumor Volume by Weight')\n",
    "plt.show()"
   ]
  },
  {
   "cell_type": "markdown",
   "metadata": {},
   "source": [
    "## Correlation and Regression"
   ]
  },
  {
   "cell_type": "code",
   "execution_count": null,
   "metadata": {},
   "outputs": [],
   "source": [
    "# Calculate the correlation coefficient and linear regression model \n",
    "# for mouse weight and average tumor volume for the Capomulin regimen\n",
    "\n",
    "# Use Scatter Plot code from above\n",
    "capomulin_avgvol_df = pd.merge(capomulin_df, capomulin_avgvol_df, on='Mouse ID')\n",
    "capomulin_final_avgvol_df = capomulin_avgvol_df[['Weight (g)', 'avg_tumor_vol']].drop_duplicates()\n",
    "capomulin_final_avgvol_df\n",
    "x = capomulin_final_avgvol_df['Weight (g)']\n",
    "y = capomulin_final_avgvol_df['avg_tumor_vol']\n",
    "\n",
    "# Calculate the correlation and print answer\n",
    "correlation = st.pearsonr(x,y)\n",
    "print(f'The correlation between weight and average tumor volume with Capomulin regimen is {round(correlation[0],2)}.')\n",
    "\n",
    "# Calculate linear regression\n",
    "(slope, intercept, rvalue, pvalue, stderr) = linregress(x, y)\n",
    "regress_values = x * slope + intercept\n",
    "line_eq = 'y = ' + str(round(slope,2)) + 'x + ' + str(round(intercept,2))\n",
    "\n",
    "# Plot linear regression\n",
    "plt.scatter(x,y)\n",
    "plt.plot(x,regress_values,'r-')\n",
    "plt.annotate(line_eq,(20,37),fontsize=15,color='red')\n",
    "plt.xlabel('Weight (g)')\n",
    "plt.ylabel('Average Tumor Volume (mm3)')\n",
    "plt.title('Average Tumor Volume by Weight')\n",
    "\n",
    "plt.show()\n",
    "\n"
   ]
  },
  {
   "cell_type": "code",
   "execution_count": null,
   "metadata": {},
   "outputs": [],
   "source": []
  }
 ],
 "metadata": {
  "anaconda-cloud": {},
  "interpreter": {
   "hash": "b24d948cdaf5bf6c6be4301d429b6480aab63b3416c34025b032cb603c515a17"
  },
  "kernelspec": {
   "display_name": "Python 3.8.8 64-bit ('base': conda)",
   "name": "python3"
  },
  "language_info": {
   "codemirror_mode": {
    "name": "ipython",
    "version": 3
   },
   "file_extension": ".py",
   "mimetype": "text/x-python",
   "name": "python",
   "nbconvert_exporter": "python",
   "pygments_lexer": "ipython3",
   "version": "3.8.8"
  }
 },
 "nbformat": 4,
 "nbformat_minor": 4
}
